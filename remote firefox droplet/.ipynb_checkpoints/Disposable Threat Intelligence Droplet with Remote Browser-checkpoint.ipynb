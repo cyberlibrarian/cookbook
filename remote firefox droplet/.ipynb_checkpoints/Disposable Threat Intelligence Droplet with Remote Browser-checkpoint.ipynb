{
 "cells": [
  {
   "cell_type": "markdown",
   "id": "c3dd8267",
   "metadata": {},
   "source": [
    "# A Disposable Threat Intelligence Droplet with Remote Browser\n",
    "This notebooks explains how to use a python script to provision a Digital Ocean (DO) droplets using the pythone-digitalocean library. The Droplet will host a desktop with Firefox that can be accessed via VNC over and SSH tunnel. "
   ]
  },
  {
   "cell_type": "markdown",
   "id": "0c2b91dc",
   "metadata": {},
   "source": [
    "## Requirements\n",
    "When performing incident reponse and threat intelligence activities, I frequently need an disposable environment to run Firefox or other tools. I need this environment to be isolated from my own: I want to interact with potentially malicious content that could adversely impact my local system. I need this environment to be disposable, not persistent: I do not want any artifacts from my use today to pollute artificats during future use. It is also helpful if the environment uses IP addresses not easily attributable to me: I don't want threat actors blocking me.\n",
    "\n",
    "A few things to consider that won't work:\n",
    "- A proxy or VPN: code still executes in my environment\n",
    "- A Virtual Machine on my desktop: the malicious environment can still access my network\n",
    "\n",
    "I do have another solution that I use that combines local VMs and a wireguard VPN. It's a little more complicated because I have not automated it yet. This solution is an alternative that is just a touch simpler. I may combine them someday.\n",
    "\n",
    "## Proposed Solution\n",
    "A Digital Ocen Droplet is ideal for my purpose. To make it work we need the following:\n",
    "- A script to automatically create and destroy a Digital Ocean Droplet\n",
    " - I can update this script as needed to add new tools if want them (MITM, BurpSuite etc)\n",
    "- A recipe to configure a Digital Ocean Droplet with \n",
    " - Firefox and Chromium Browser\n",
    " - TigerVNC Server for fast remote desktop, bound to localhost only\n",
    " - A script to launch tigervnc with my desired configuration\n",
    " - SSH will listen on a non-standard port listening on IPv6 only (to prevent brute forcing/discovery)\n",
    " - SSH will be configured with my SSH keys automatically\n",
    " - I will connect to the remote desktop using TigerVNC client OVER SSH\n",
    "  - VNC is secured by SSH... no need for additional authentication/encryption of VNC"
   ]
  },
  {
   "cell_type": "markdown",
   "id": "4cc19a2a",
   "metadata": {},
   "source": [
    "## Python Modules\n",
    "We need several python modules: \n",
    "- \"os\"\n",
    "- \"time\"\n",
    "- \"getpass\"\n",
    "- \"digitalocean\"\n",
    "\n",
    "We use \"os\" to read environment variables from the computer where we execute this script. Primarily, we want to read our API token from an environment variable so we can avoid hard coding it into our script (better security for our secret Token).\n",
    "\n",
    "We use \"time\" so we can call \"sleep()\".\n",
    "\n",
    "If we are unable to get our API TOKEN from an OS environment variable, we will prompt the user to provide it. We use \"getpass\" for this. \"getpass\" can mask out the password so it handled securely in jupyter notebook output.\n",
    "\n",
    "The \"digitalocean\" library makes its easier to authenticate and use the Digital Ocean (DO) APIs.\n",
    "\n",
    "### Is python-digitalocean the best choice for interacting with the DO API?\n",
    "I don't know. I found there were at least 3 python libraries for using the DO API. I choose this one because it was the first I found a well documented set of examples.\n",
    "\n",
    "Did I choose badly? Is there a better way? I'd love for someone to copy this notebook and re-implement it using one of the other libraries."
   ]
  },
  {
   "cell_type": "code",
   "execution_count": 1,
   "id": "378fec76",
   "metadata": {},
   "outputs": [],
   "source": [
    "import os\n",
    "from random import randint\n",
    "from time import sleep\n",
    "import getpass\n",
    "import digitalocean as do"
   ]
  },
  {
   "cell_type": "markdown",
   "id": "ef956730",
   "metadata": {},
   "source": [
    "### Common Errors\n",
    "There are some common errors you might encounter while using the digitalocean library.\n",
    "\n",
    "If your connection has timeout or you have a connection problem you will get output shown below. It starts with \"RemoteDisconnected\". If this happens a lot, you should add some error checking to any invokation of your \"manager\" object.\n",
    "\n",
    "`---------------------------------------------------------------------------\n",
    "RemoteDisconnected                        Traceback (most recent call last)\n",
    "File ~\\AppData\\Local\\Packages\\PythonSoftwareFoundation.Python.3.10_qbz5n2kfra8p0\\LocalCache\\local-packages\\Python310\\site-  packages\\urllib3\\connectionpool.py:703, in HTTPConnectionPool.urlopen(self, method, url, body, headers, retries, redirect,   assert_same_host, timeout, pool_timeout, release_conn, chunked, body_pos, **response_kw)\n",
    "    702 # Make the request on the httplib connection object.\n",
    "--> 703 httplib_response = self._make_request(`"
   ]
  },
  {
   "cell_type": "markdown",
   "id": "5039da7c",
   "metadata": {},
   "source": [
    "## Authenticate to the DO API\n",
    "\n",
    "docs go here"
   ]
  },
  {
   "cell_type": "code",
   "execution_count": 2,
   "id": "b3392154",
   "metadata": {
    "scrolled": false
   },
   "outputs": [
    {
     "name": "stdout",
     "output_type": "stream",
     "text": [
      "Enter your Digital Ocean Token:········\n"
     ]
    }
   ],
   "source": [
    "# Get the DO API Token securely\n",
    "if 'DO_TOKEN' in os.environ.keys():\n",
    "    token = os.getenv('DO_TOKEN')\n",
    "else:\n",
    "    token = getpass.getpass('Enter your Digital Ocean Token:')\n",
    "\n",
    "# Create a DO API manager object, used to get information about our account and droplets\n",
    "try:\n",
    "    manager = do.Manager(token=token)\n",
    "except Exception as e:\n",
    "    print(f'Err: {e}')"
   ]
  },
  {
   "cell_type": "markdown",
   "id": "cf3d0a0f",
   "metadata": {},
   "source": [
    "## List our existing droplets"
   ]
  },
  {
   "cell_type": "code",
   "execution_count": 5,
   "id": "5864a89e",
   "metadata": {},
   "outputs": [],
   "source": [
    "# you can add 'tag_name=\"tagname\"' in the paramaters to search\n",
    "try:\n",
    "    droplets = manager.get_all_droplets()\n",
    "except Exception as e:\n",
    "    print(f'Err: {e}')"
   ]
  },
  {
   "cell_type": "code",
   "execution_count": 6,
   "id": "ae4abf58",
   "metadata": {},
   "outputs": [
    {
     "name": "stdout",
     "output_type": "stream",
     "text": [
      "Number of existing droplets: 0\n"
     ]
    }
   ],
   "source": [
    "print(f'Number of existing droplets: {len(droplets)}')\n",
    "# list the droplets\n",
    "for droplet in droplets:\n",
    "#     print(droplet)\n",
    "#     print(dir(droplet))\n",
    "    print(f'{droplet.id}, {droplet.name}, {droplet.status}, {droplet.size[\"slug\"]}, {droplet.region[\"name\"]}')\n"
   ]
  },
  {
   "cell_type": "markdown",
   "id": "828f653f",
   "metadata": {},
   "source": [
    "# Configure and Create a new Droplet for Firefox"
   ]
  },
  {
   "cell_type": "markdown",
   "id": "e9b7a629",
   "metadata": {},
   "source": [
    "## Droplet Specifications\n",
    "In this section we will specify the requirements for the droplet and ensure we have all the configuration data we need including:\n",
    "- The size of the droplet\n",
    "- The region to create the droplet in\n",
    "- The name of the droplet\n",
    "- The SSH keys we will use to access the droplet\n",
    "- \"cloud-config\" or \"user_data\" to configure the droplet after it is created"
   ]
  },
  {
   "cell_type": "markdown",
   "id": "b5ea0247",
   "metadata": {},
   "source": [
    "### Size and Region"
   ]
  },
  {
   "cell_type": "code",
   "execution_count": 7,
   "id": "47ae31d6",
   "metadata": {},
   "outputs": [],
   "source": [
    "# For firefox this should be a good size, but it would cost a lot if we didn't destroy it after using it.\n",
    "size='s-4vcpu-8gb' # the drive for this size is 160GB... overkill but we need at least 40-50GB\n",
    "image='ubuntu-20-04-x64'"
   ]
  },
  {
   "cell_type": "markdown",
   "id": "f862e394",
   "metadata": {},
   "source": [
    "### Find an available regions for droplets\n",
    "Not all regions will be available to you. Some regions have limited capacity and are only available to accounts with existing resources in those regions.\n",
    "\n",
    "So, we will use the size we choose, to find a region that is available. We will pick the first available region. Random would be interesting as well."
   ]
  },
  {
   "cell_type": "code",
   "execution_count": 8,
   "id": "cdb1a40f",
   "metadata": {
    "scrolled": true
   },
   "outputs": [
    {
     "name": "stdout",
     "output_type": "stream",
     "text": [
      "First region offering s-4vcpu-8gb is sfo3\n"
     ]
    }
   ],
   "source": [
    "try:\n",
    "    regions = manager.get_all_regions()\n",
    "except Exception as e:\n",
    "    print(f'Err: {e}')\n",
    "\n",
    "for region in regions:\n",
    "    if size in region.sizes:\n",
    "        region_slug = region.slug\n",
    "\n",
    "if region_slug:\n",
    "    print(f'First region offering {size} is {region_slug}')\n",
    "else:\n",
    "    print('No region found. Selecting nyc1.')\n",
    "    region_slug='nyc1'    "
   ]
  },
  {
   "cell_type": "markdown",
   "id": "a9f64992",
   "metadata": {},
   "source": [
    "### Name the droplet\n",
    "I am going to name my droplet based off the size, region, and a random component."
   ]
  },
  {
   "cell_type": "code",
   "execution_count": 9,
   "id": "cd96bf2d",
   "metadata": {
    "scrolled": true
   },
   "outputs": [],
   "source": [
    "#name = f'srv{randint(100,999)}-{size}-{region_slug}'\n",
    "name = f'srv{randint(100,999)}'"
   ]
  },
  {
   "cell_type": "code",
   "execution_count": 10,
   "id": "5c7bef2d",
   "metadata": {},
   "outputs": [
    {
     "name": "stdout",
     "output_type": "stream",
     "text": [
      "srv435\n"
     ]
    }
   ],
   "source": [
    "print(name)"
   ]
  },
  {
   "cell_type": "markdown",
   "id": "035dd519",
   "metadata": {},
   "source": [
    "### Get our available SSH keys\n",
    "We will need these later when we create our droplet."
   ]
  },
  {
   "cell_type": "code",
   "execution_count": 11,
   "id": "3d6f1c12",
   "metadata": {},
   "outputs": [],
   "source": [
    "try:\n",
    "    keys = manager.get_all_sshkeys()\n",
    "except Exception as e:\n",
    "    print(f'Err: {e}')"
   ]
  },
  {
   "cell_type": "code",
   "execution_count": 26,
   "id": "30aed2f7",
   "metadata": {
    "scrolled": true
   },
   "outputs": [
    {
     "name": "stdout",
     "output_type": "stream",
     "text": [
      "21315052, DigitalOcean\n",
      "21314546, labpc\n"
     ]
    }
   ],
   "source": [
    "# list the keys\n",
    "for key in keys:\n",
    "    print(f'{key.id}, {key.fingerprint}, {key.name}')\n",
    "#    print(f'{key.public_key}')"
   ]
  },
  {
   "cell_type": "markdown",
   "id": "8ac37ddb",
   "metadata": {},
   "source": [
    "#### Add a new SSH key\n",
    "If we wanted to, we could add a new SSH key to DO, or simply create a key object to use when we create the droplet later."
   ]
  },
  {
   "cell_type": "code",
   "execution_count": 13,
   "id": "2feb9282",
   "metadata": {},
   "outputs": [],
   "source": [
    "# read a key from a file\n",
    "# user_ssh_key = open('/home/<$USER>/.ssh/id_rsa.pub').read()\n",
    "# key = do.SSHKey(token='secretspecialuniquesnowflake',\n",
    "#                 name='uniquehostname',\n",
    "#                 public_key=user_ssh_key)\n",
    "# key.create()"
   ]
  },
  {
   "cell_type": "markdown",
   "id": "0b96d4d4",
   "metadata": {},
   "source": [
    "## Configure the Droplet\n",
    "We will use a method DO calls \"cloud-config\" to provide a script that will configure the droplet when it is created. We need to create this first, before we create the droplet. This will be run when the droplet is created.\n",
    "\n",
    "https://www.digitalocean.com/community/tutorials/how-to-use-cloud-config-for-your-initial-server-setup\n",
    "https://www.digitalocean.com/community/tutorials/an-introduction-to-cloud-config-scripting\n",
    "\n",
    "When using the DO API, this is provided in the \"user_data\" parameter when the Droplet is being configured."
   ]
  },
  {
   "cell_type": "markdown",
   "id": "dd9b0ded",
   "metadata": {},
   "source": [
    "### Configuring a remote firefox droplet\n",
    "I want to make a droplet that can be used to run an isolated, remote copy of firefox. I want this so I can interact with potentially malicious content and for OPSEC (to ensure my identify is not revealed to the infrastructure I am investigating).\n",
    "\n",
    "In order to run Firefox graphically remotely, I just need firefox, Xwindows, and a VNC server. I will connect over SSH, and tunnel my VNC connection from my desktop to this machine over that SSH connection.\n",
    "\n",
    "I will need the following packages installed:\n",
    "- Firefox ESR\n",
    "- Chrome (what the heck, I don't use it but some attack target it exclusively)\n",
    "- tigervncserver\n",
    "- (optional) torbrowser or a tor proxy\n",
    "- MITM proxy for logging\n",
    "- (git) stalkphish\n",
    "\n",
    "I also need to reconfigure the machine for security:\n",
    "- Run ssh on a non-standard port\n",
    "- Setup a user I will use for firefox (called \"user\")\n",
    "- Add something to my .login so tigervnc starts automatically when I login on a display and port I specify\n",
    "- Configure security updates to run automatically\n",
    "- Start MITM proxy automatically"
   ]
  },
  {
   "cell_type": "markdown",
   "id": "e3254921",
   "metadata": {},
   "source": [
    "#### cloud-config file\n",
    "The approach we are taking installs a lot of packages for the X11 environment. Anything we can do speed that up would shorten the provisioning time. We could use a custom Droplet from the Marketplace. We could try to reduce the dependencies that get installed by being more specific with our setup.\n",
    "\n",
    "Another approach would be to configure the base system for network, SSH, etc. Then write a script to executed after reboot that installs our packages. Then we could reboot much more quickly and make the droplet available for non-remote Firefox ealier. The package install would occur in the background and still take 5-10 minutes. But we could work with it faster."
   ]
  },
  {
   "cell_type": "code",
   "execution_count": 14,
   "id": "d6230dd4",
   "metadata": {},
   "outputs": [],
   "source": [
    "cloud_config_script =\"\"\"\n",
    "#cloud-config\n",
    "write_files:\n",
    "  - path: /usr/local/bin/tiger\n",
    "    content: |\n",
    "      #!/bin/bash\n",
    "      tigervncserver -useold -fg -localhost yes -autokill -depth 16 -securitytype None -xstartup lxsession \n",
    "runcmd:\n",
    "  - sed -i -e 's/^#Port.*$/Port 39022/' /etc/ssh/sshd_config\n",
    "  - sed -i -e 's/^#ListenAddress 0.0.0.0$/ListenAddress 127.0.0.1/' /etc/ssh/sshd_config\n",
    "  - sed -i -e 's/^#ListenAddress ::$/ListenAddress ::/' /etc/ssh/sshd_config\n",
    "  - systemctl restart ssh\n",
    "  - chmod +x /usr/local/bin/tiger\n",
    "packages:\n",
    "  - lxde-core\n",
    "  - firefox\n",
    "  - chromium-browser\n",
    "  - tigervnc-standalone-server\n",
    "  - git\n",
    "  - net-tools\n",
    "power_state:\n",
    "  timeout: 120\n",
    "  delay: \"+1\"\n",
    "  message: Rebooting in one minute\n",
    "  mode: poweroff\n",
    "\"\"\""
   ]
  },
  {
   "cell_type": "markdown",
   "id": "a08ebf1a",
   "metadata": {},
   "source": [
    "## Create the Droplet\n",
    "To create our droplet we have to specify several things:\n",
    "- Name: this can be anything we want\n",
    "- Region: This has to be from the list of regions above\n",
    "- Size: You can get a list of sizes available in each region in advance (see above)\n",
    "- Image: This is the operating system/Linux Distro you want to use\n",
    "- SSH Keys: The SSH Keys you want to access the droplet with (see above)\n",
    "- Backups: Backups cost extra money, but they are usually a good thing!\n",
    "- Token: You authentication token for the API.\n",
    "- User Data: a \"cloud-config\" script to configure the droplet OS\n",
    "- IPV6: Set to \"True\" because we definately prefer this\n",
    "\n",
    "Why IPv6? Well, it's a smart move to only listen for SSH on IPv6 and on a non-standard port. You'll few attacks if any.\n",
    "\n",
    "When you you invoke the \"Droplet\" method, it will not create the droplet. It will creat a Droplet object that is ready to be used. You can modify it before calling the \"droplet.create()\" method."
   ]
  },
  {
   "cell_type": "code",
   "execution_count": 15,
   "id": "1de80956",
   "metadata": {},
   "outputs": [],
   "source": [
    "droplet = do.Droplet(token=token, \n",
    "                     name=name,\n",
    "                     region=region_slug, \n",
    "                     size=size,\n",
    "                     image=image,\n",
    "                     ssh_keys=keys,\n",
    "                     ipv6=True,\n",
    "                     backups=False,\n",
    "                     user_data=cloud_config_script\n",
    "                    )\n",
    "\n",
    "try:\n",
    "    droplet.create()\n",
    "except Exception as e:\n",
    "    print(f'Err: {e}')"
   ]
  },
  {
   "cell_type": "markdown",
   "id": "a0e34b16",
   "metadata": {},
   "source": [
    "### Wait for the create action to complete"
   ]
  },
  {
   "cell_type": "code",
   "execution_count": 16,
   "id": "0ab34baf",
   "metadata": {},
   "outputs": [
    {
     "name": "stdout",
     "output_type": "stream",
     "text": [
      "<Action: 1426742587 create completed>\n"
     ]
    }
   ],
   "source": [
    "# Let's do a quick check to see if the droplet has been created\n",
    "actions = droplet.get_actions()\n",
    "# we assume that the first action is the create action; TODO maybe check for sure\n",
    "actions[0].load()\n",
    "actions[0].wait(5) # wait until it is created, checking every 5 seconds\n",
    "print(actions[0])"
   ]
  },
  {
   "cell_type": "markdown",
   "id": "82621aab",
   "metadata": {},
   "source": [
    "### Get our droplet's IP address\n",
    "This could be improved"
   ]
  },
  {
   "cell_type": "code",
   "execution_count": 17,
   "id": "d047e47a",
   "metadata": {},
   "outputs": [
    {
     "name": "stdout",
     "output_type": "stream",
     "text": [
      "Droplet status is: \"new\"\n",
      "Waiting for the droplet to poweroff\n",
      "Droplet status is: \"active\"\n",
      "Droplet status is: \"active\"\n",
      "Droplet status is: \"active\"\n",
      "Droplet status is: \"active\"\n",
      "Droplet status is: \"active\"\n",
      "Droplet status is: \"active\"\n",
      "Droplet status is: \"active\"\n",
      "Droplet status is: \"active\"\n",
      "Droplet status is: \"active\"\n",
      "Droplet status is: \"active\"\n",
      "Droplet status is: \"active\"\n",
      "Droplet status is: \"active\"\n",
      "Droplet status is: \"active\"\n",
      "Droplet status is: \"active\"\n",
      "Droplet status is: \"active\"\n",
      "Droplet status is: \"active\"\n",
      "Droplet status is: \"active\"\n",
      "Droplet status is: \"active\"\n",
      "Droplet status is: \"active\"\n",
      "Droplet status is: \"active\"\n",
      "Droplet status is: \"active\"\n",
      "Droplet status is: \"active\"\n",
      "Droplet status is: \"off\"\n",
      "Configuration is complete. Powering on droplet.\n",
      "<Action: 1426749511 power_on completed>\n",
      "Droplet status is: \"active\"\n"
     ]
    }
   ],
   "source": [
    "# The droplet will take a while to provision, after it is created. \n",
    "# Our cloud-config script reboots at the end, so we can wait for the\n",
    "# status to be \"off\" instead active.\n",
    "droplet.load()\n",
    "print(f'Droplet status is: \"{droplet.status}\"')\n",
    "print('Waiting for the droplet to poweroff')\n",
    "while droplet.status != 'off':\n",
    "    sleep(30)\n",
    "    droplet.load()\n",
    "    print(f'Droplet status is: \"{droplet.status}\"')\n",
    "\n",
    "print(\"Configuration is complete. Powering on droplet.\")\n",
    "droplet.power_on()\n",
    "\n",
    "droplet.load()\n",
    "actions = droplet.get_actions()\n",
    "actions[0].load()\n",
    "actions[0].wait(5)\n",
    "print(actions[0])\n",
    "\n",
    "while droplet.status == 'off':\n",
    "    sleep(30)\n",
    "    droplet.load()\n",
    "    print(f'Droplet status is: \"{droplet.status}\"')"
   ]
  },
  {
   "cell_type": "code",
   "execution_count": 18,
   "id": "3e5919dd",
   "metadata": {},
   "outputs": [
    {
     "name": "stdout",
     "output_type": "stream",
     "text": [
      "<Action: 1426749511 power_on completed>\n",
      "<Action: 1426742587 create completed>\n"
     ]
    }
   ],
   "source": [
    "droplet.load()\n",
    "actions = droplet.get_actions()\n",
    "for action in actions:\n",
    "    action.load()\n",
    "    print(action)"
   ]
  },
  {
   "cell_type": "code",
   "execution_count": 19,
   "id": "664ccf23",
   "metadata": {},
   "outputs": [
    {
     "name": "stdout",
     "output_type": "stream",
     "text": [
      "288801965, srv435, active, 144.126.210.101, 2604:a880:4:1d0::2ad:8000\n"
     ]
    }
   ],
   "source": [
    "while droplet.status != 'active':\n",
    "    sleep(30)\n",
    "    droplet.load()\n",
    "    print(f'Droplet status is: \"{droplet.status}\"')\n",
    "\n",
    "droplet.load()\n",
    "print(f'{droplet.id}, {droplet.name}, {droplet.status}, {droplet.ip_address}, {droplet.ip_v6_address}')"
   ]
  },
  {
   "cell_type": "markdown",
   "id": "1d14fe39",
   "metadata": {},
   "source": [
    "# Use Firefox with VNC over SSH\n",
    "\n",
    "+ SSH to the Droplet, using IPv6 on port 39022\n",
    "+ Forword port 5901 to 127.0.0.1:5901\n",
    "+ Launch your VNC viewer and connect to 127.0.0.1:5901 (no password required)\n",
    "+ Launch firefox!\n",
    "\n",
    "Now you can use the droplet to run Firefox over VNC over SSH.\n",
    "\n",
    "To do this, you should start a copy of Putty and connect to the droplet using the IPv6 address in the output above. You need to create a tunnel from local port 5901 to remote 127.0.0.1:5901.\n",
    "\n",
    "When you login run this command: \"tiger\". That's a script we put in /usr/local/bin when we provisioned the droplet. It runs a command like this one:\n",
    "\n",
    "tigervncserver -useold -fg -localhost yes -autokill -depth 16 -securitytype None -xstartup xfce4-session\n",
    "\n",
    "Then use tigervncviewer to connect to 127.0.0.1:5901.\n",
    "\n",
    "The way we configured VNC you do not need a password. It is bound to localhost only, and we are tunneling over SSH using key authentication. Adding another layer of VNC authentication or security is pointless.\n",
    "\n",
    "When you are done, you need to destroy the droplet using the commands below. If your jupyter times out, you can destroy it via GUI or write your own script to destroy it."
   ]
  },
  {
   "cell_type": "markdown",
   "id": "052ba8f4",
   "metadata": {},
   "source": [
    "## Destroy the droplet when we are done\n",
    "For this section, we rely on the droplet object we created originally. However if you killed your API session, you might want to either save the ID above, and change below to destroy by specifying the ID. Or add code to list all droplets, find yours and destroy it by name etc."
   ]
  },
  {
   "cell_type": "code",
   "execution_count": 20,
   "id": "9e336697",
   "metadata": {},
   "outputs": [],
   "source": [
    "try:\n",
    "    droplet.destroy()\n",
    "except Exception as e:\n",
    "    print(f'Err: {e}')"
   ]
  },
  {
   "cell_type": "code",
   "execution_count": 21,
   "id": "4a6e010b",
   "metadata": {
    "scrolled": true
   },
   "outputs": [
    {
     "name": "stdout",
     "output_type": "stream",
     "text": [
      "[<Action: 1426750324 destroy completed>, <Action: 1426749511 power_on completed>, <Action: 1426742587 create completed>]\n"
     ]
    }
   ],
   "source": [
    "# Let's do a quick check to see if the droplet has been destroyed\n",
    "actions = droplet.get_actions()\n",
    "actions[0].wait(5) # wait for the droplet destroy to complete, checking every 5 seconds\n",
    "print(actions)"
   ]
  },
  {
   "cell_type": "code",
   "execution_count": 24,
   "id": "6918e3af",
   "metadata": {},
   "outputs": [],
   "source": [
    "# you can add 'tag_name=\"tagname\"' in the paramaters to search\n",
    "try:\n",
    "    droplets = manager.get_all_droplets()\n",
    "except Exception as e:\n",
    "    print(f'Err: {e}')"
   ]
  },
  {
   "cell_type": "code",
   "execution_count": 25,
   "id": "24a89ed9",
   "metadata": {},
   "outputs": [
    {
     "name": "stdout",
     "output_type": "stream",
     "text": [
      "Number of existing droplets: 0\n"
     ]
    }
   ],
   "source": [
    "print(f'Number of existing droplets: {len(droplets)}')\n",
    "# list the droplets\n",
    "for droplet in droplets:\n",
    "#     print(droplet)\n",
    "#     print(dir(droplet))\n",
    "    print(f'{droplet.id}, {droplet.name}, {droplet.status}, {droplet.size[\"slug\"]}, {droplet.region[\"name\"]}')\n"
   ]
  },
  {
   "cell_type": "markdown",
   "id": "9e40cfdc",
   "metadata": {},
   "source": [
    "Your droplet should be destroyed by now, but be sure to double-check. This droplet is cost-effective if you destroy it when you are done. But it will cost $40/month if you leave it running."
   ]
  }
 ],
 "metadata": {
  "kernelspec": {
   "display_name": "Python 3 (ipykernel)",
   "language": "python",
   "name": "python3"
  },
  "language_info": {
   "codemirror_mode": {
    "name": "ipython",
    "version": 3
   },
   "file_extension": ".py",
   "mimetype": "text/x-python",
   "name": "python",
   "nbconvert_exporter": "python",
   "pygments_lexer": "ipython3",
   "version": "3.10.2"
  }
 },
 "nbformat": 4,
 "nbformat_minor": 5
}
